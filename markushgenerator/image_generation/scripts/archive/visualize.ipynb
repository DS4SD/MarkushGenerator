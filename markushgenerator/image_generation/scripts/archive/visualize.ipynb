{
 "cells": [
  {
   "cell_type": "code",
   "execution_count": 1,
   "metadata": {},
   "outputs": [],
   "source": [
    "%load_ext autoreload\n",
    "%autoreload 2"
   ]
  },
  {
   "cell_type": "code",
   "execution_count": 2,
   "metadata": {},
   "outputs": [
    {
     "name": "stderr",
     "output_type": "stream",
     "text": [
      "/mnt/volume/anaconda3/envs/unidoc/lib/python3.10/site-packages/tqdm/auto.py:21: TqdmWarning: IProgress not found. Please update jupyter and ipywidgets. See https://ipywidgets.readthedocs.io/en/stable/user_install.html\n",
      "  from .autonotebook import tqdm as notebook_tqdm\n"
     ]
    }
   ],
   "source": [
    "import os \n",
    "import io\n",
    "import copy\n",
    "from tqdm import tqdm\n",
    "from PIL import ImageFont, ImageDraw\n",
    "import matplotlib.pyplot as plt\n",
    "from rdkit import Chem, rdBase\n",
    "from rdkit.Chem import Draw\n",
    "import datasets \n",
    "from pprint import pprint\n",
    "from PIL import Image \n",
    "import cairosvg\n",
    "\n",
    "from mol_depict_cdk.generation import get_boxes, get_cells\n",
    "from mol_depict_cdk.generate_hf_dataset_ocr_boxes import CXSMILESTokenizer\n",
    "\n",
    "font = ImageFont.truetype(\"../../data/fonts/arial.ttf\", 50)"
   ]
  },
  {
   "cell_type": "code",
   "execution_count": 11,
   "metadata": {},
   "outputs": [
    {
     "data": {
      "text/plain": [
       "Dataset({\n",
       "    features: ['id', 'image_path', 'mol', 'cxsmiles', 'cxsmiles_dataset', 'cxsmiles_opt', 'keypoints', 'cells', 'image'],\n",
       "    num_rows: 63\n",
       "})"
      ]
     },
     "execution_count": 11,
     "metadata": {},
     "output_type": "execute_result"
    }
   ],
   "source": [
    "# Read for dataloader\n",
    "dataset_name_hf = \"ocxsr_3002\"\n",
    "dataset_hf = datasets.load_from_disk(os.getcwd() + f\"/../../data/hf_dataset/{dataset_name_hf}/\", keep_in_memory=False)[\"train\"]\n",
    "dataset_hf"
   ]
  },
  {
   "cell_type": "markdown",
   "metadata": {},
   "source": [
    "### Visualize HuggingFace dataset"
   ]
  },
  {
   "cell_type": "code",
   "execution_count": null,
   "metadata": {},
   "outputs": [],
   "source": [
    "# Visualize from Hugging Face dataset\n",
    "i_max = 15\n",
    "for i, sample in enumerate(dataset_hf.iter(batch_size=1)):\n",
    "    if i > i_max:\n",
    "        break\n",
    "    id, image, mol, cxsmiles, cxsmiles_dataset, cxsmiles_opt, keypoints, cells = sample[\"id\"][0], sample[\"image\"][0], sample[\"mol\"][0], sample[\"cxsmiles\"][0], sample[\"cxsmiles_dataset\"][0], sample[\"cxsmiles_opt\"][0], sample[\"keypoints\"][0], sample[\"cells\"][0]\n",
    "    # Select only molecules with explicit hydrogens\n",
    "    # selected = False\n",
    "    # for i, (ocr_cell) in enumerate(cells):\n",
    "    #     # Display cells and atom mapping\n",
    "    #     ocr_bbox = [\n",
    "    #         ocr_cell[\"bbox\"][0]*image.size[0],\n",
    "    #         ocr_cell[\"bbox\"][1]*image.size[1],\n",
    "    #         ocr_cell[\"bbox\"][2]*image.size[0],\n",
    "    #         ocr_cell[\"bbox\"][3]*image.size[1],\n",
    "    #     ]\n",
    "    #     if \"H\" in ocr_cell[\"text\"]:\n",
    "    #         selected = True\n",
    "    # if not(selected):\n",
    "    #     continue\n",
    "        \n",
    "    # Select only molecules with sg\n",
    "    # if not(\"Sg\" in cxsmiles):\n",
    "    #     continue\n",
    "    print(i)\n",
    "    print(id)\n",
    "    print(cxsmiles_dataset)\n",
    "    print(cxsmiles)\n",
    "    print(cxsmiles_opt)\n",
    "    image = copy.deepcopy(image)\n",
    "    draw = ImageDraw.Draw(image)\n",
    "\n",
    "    for i, (ocr_cell) in enumerate(cells):\n",
    "        # Display cells and atom mapping\n",
    "        ocr_bbox = [\n",
    "            ocr_cell[\"bbox\"][0]*image.size[0],\n",
    "            ocr_cell[\"bbox\"][1]*image.size[1],\n",
    "            ocr_cell[\"bbox\"][2]*image.size[0],\n",
    "            ocr_cell[\"bbox\"][3]*image.size[1],\n",
    "        ]\n",
    "        draw.rectangle(((ocr_bbox[0], ocr_bbox[1]), (ocr_bbox[2], ocr_bbox[3])), outline=\"red\", width=5)\n",
    "        draw.text((ocr_bbox[0], ocr_bbox[1]), str(i), (0, 0, 255), font=font)\n",
    "        print(i, ocr_cell[\"text\"])\n",
    "    plt.figure(figsize=(15,15))\n",
    "    plt.imshow(image)\n",
    "    plt.show()\n",
    "    plt.close()"
   ]
  },
  {
   "cell_type": "code",
   "execution_count": null,
   "metadata": {},
   "outputs": [],
   "source": [
    "invalid_i = []\n",
    "for i, sample in tqdm(enumerate(dataset_hf.iter(batch_size=1)), total=len(dataset_hf)):\n",
    "    if \"*\" in sample[\"cxsmiles_opt\"][0]:\n",
    "        invalid_i.append(i)"
   ]
  },
  {
   "cell_type": "markdown",
   "metadata": {},
   "source": [
    "## Debugging"
   ]
  },
  {
   "cell_type": "code",
   "execution_count": 5,
   "metadata": {},
   "outputs": [],
   "source": [
    "dataset_name = \"experiment-cx004_cxsmiles_ocr\""
   ]
  },
  {
   "cell_type": "markdown",
   "metadata": {},
   "source": [
    "### Debug CXSMILES optimization "
   ]
  },
  {
   "cell_type": "code",
   "execution_count": null,
   "metadata": {},
   "outputs": [],
   "source": [
    "for i in range(10, 11):\n",
    "    id = dataset_hf[\"id\"][i]\n",
    "    print(id)\n",
    "    molfile_path = os.getcwd() + f\"/../../data/dataset/{dataset_name}/molfiles/{id}.mol\"\n",
    "    original_cxsmiles = dataset_hf['cxsmiles_dataset'][i]\n",
    "    print(f\"Original CXSMILES: {original_cxsmiles}\")\n",
    "    with rdBase.BlockLogs() as context:\n",
    "        m = Chem.MolFromMolFile(molfile_path, strictParsing=False, removeHs=False)\n",
    "        if m is None:\n",
    "            print(\"Invalid CXSMILES from MOLfile\")\n",
    "            continue\n",
    "        cxsmiles_mol = Chem.MolToCXSmiles(m)\n",
    "        mol_to_cxsmi_i_mapping = {k: v for k, v in zip(\n",
    "            list(map(int, m.GetProp(\"_smilesAtomOutputOrder\")[1:-2].split(\",\"))),\n",
    "            range(0, m.GetNumAtoms()),\n",
    "        )}\n",
    "    print(f\"Original CXSMILES from MOLfile: {cxsmiles_mol}\")\n",
    "\n",
    "    original_r_labels = [c for c in original_cxsmiles.split(\"|\")[1].split(\"$\")[1].split(\";\") if c != \"\"]\n",
    "    if not(all([r in cxsmiles_mol for r in original_r_labels])):\n",
    "       print(\"Invalid CXSMILES from MOLfile\")\n",
    "       continue\n",
    "    # Convert molfile to cxsmiles opt\n",
    "    cxsmiles_tokenizer = CXSMILESTokenizer()\n",
    "    cxsmiles_opt, keypoints = cxsmiles_tokenizer.convert_cdk_to_opt(cxsmiles_mol, molfile_path, mol_to_cxsmi_i_mapping)\n",
    "    print(f\"Optimized CXSMILES: {cxsmiles_opt}\")\n",
    "     # Convert cxsmiles opt to cxsmiles\n",
    "    cxsmiles_pred = cxsmiles_tokenizer.convert_opt_to_out(cxsmiles_opt)\n",
    "    print(f\"Reconstructed CXSMILES: {cxsmiles_pred}\")\n",
    "    \n",
    "    # Display molecules\n",
    "    parser_params = Chem.SmilesParserParams()\n",
    "    parser_params.strictCXSMILES = False\n",
    "    m = Chem.MolFromSmiles(cxsmiles_mol, parser_params)\n",
    "    for atom in m.GetAtoms():\n",
    "        atom.SetProp(\"atomNote\", str(atom.GetIdx()+1))\n",
    "    display(Draw.MolToImage(m, size=(450, 450)))\n",
    "\n",
    "    m_reconstructed = Chem.MolFromSmiles(cxsmiles_pred, parser_params)\n",
    "    for atom in m_reconstructed.GetAtoms():\n",
    "        atom.SetProp(\"atomNote\", str(atom.GetIdx()+1))\n",
    "    display(Draw.MolToImage(m_reconstructed, size=(450, 450)))\n",
    "\n",
    "    # Display image\n",
    "    image_path = os.getcwd() + f\"/../../data/dataset/{dataset_name}/images/{id}.svg\"\n",
    "    display(Image.open(io.BytesIO(cairosvg.svg2png(url=image_path))))\n",
    "    "
   ]
  },
  {
   "cell_type": "markdown",
   "metadata": {},
   "source": [
    "### Debug cells generation"
   ]
  },
  {
   "cell_type": "code",
   "execution_count": null,
   "metadata": {},
   "outputs": [],
   "source": [
    "hf_dataset_i = 47\n",
    "id = 645256\n",
    "svg_path = os.getcwd() + f\"/../../data/dataset/{dataset_name}/images/{id}.svg\"\n",
    "molfile_path = os.getcwd() + f\"/../../data/dataset/{dataset_name}/molfiles/{id}.mol\"\n",
    "cxsmiles = dataset_hf[\"cxsmiles_dataset\"][hf_dataset_i]\n",
    "print(cxsmiles)\n",
    "atom_boxes, smt_boxes = get_boxes(svg_path) \n",
    "pprint(atom_boxes)\n",
    "pprint(smt_boxes)\n",
    "print(\"\\n\")\n",
    "cells = get_cells(cxsmiles, molfile_path, atom_boxes, smt_boxes) \n",
    "pprint(cells)\n",
    "display(Image.open(io.BytesIO(cairosvg.svg2png(url=svg_path))))\n",
    "print(open(svg_path, 'r').read())"
   ]
  }
 ],
 "metadata": {
  "kernelspec": {
   "display_name": "unidoc",
   "language": "python",
   "name": "python3"
  },
  "language_info": {
   "codemirror_mode": {
    "name": "ipython",
    "version": 3
   },
   "file_extension": ".py",
   "mimetype": "text/x-python",
   "name": "python",
   "nbconvert_exporter": "python",
   "pygments_lexer": "ipython3",
   "version": "3.10.13"
  }
 },
 "nbformat": 4,
 "nbformat_minor": 2
}
