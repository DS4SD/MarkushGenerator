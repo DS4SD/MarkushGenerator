{
 "cells": [
  {
   "cell_type": "code",
   "execution_count": 1,
   "metadata": {},
   "outputs": [],
   "source": [
    "%load_ext autoreload\n",
    "%autoreload 2"
   ]
  },
  {
   "cell_type": "code",
   "execution_count": 10,
   "metadata": {},
   "outputs": [],
   "source": [
    "# Runs on cdk\n",
    "\n",
    "import os \n",
    "import pandas as pd \n",
    "from tqdm import tqdm\n",
    "import random"
   ]
  },
  {
   "cell_type": "code",
   "execution_count": 5,
   "metadata": {},
   "outputs": [],
   "source": [
    "dataset_name = \"experiment-cx1000_cxsmiles\"\n",
    "edited_dataset_name = \"experiment-cx1001_cxsmiles\""
   ]
  },
  {
   "cell_type": "code",
   "execution_count": 7,
   "metadata": {},
   "outputs": [
    {
     "data": {
      "text/html": [
       "<div>\n",
       "<style scoped>\n",
       "    .dataframe tbody tr th:only-of-type {\n",
       "        vertical-align: middle;\n",
       "    }\n",
       "\n",
       "    .dataframe tbody tr th {\n",
       "        vertical-align: top;\n",
       "    }\n",
       "\n",
       "    .dataframe thead th {\n",
       "        text-align: right;\n",
       "    }\n",
       "</style>\n",
       "<table border=\"1\" class=\"dataframe\">\n",
       "  <thead>\n",
       "    <tr style=\"text-align: right;\">\n",
       "      <th></th>\n",
       "      <th>Unnamed: 0</th>\n",
       "      <th>id</th>\n",
       "      <th>cxsmiles</th>\n",
       "    </tr>\n",
       "  </thead>\n",
       "  <tbody>\n",
       "    <tr>\n",
       "      <th>0</th>\n",
       "      <td>3362940</td>\n",
       "      <td>0</td>\n",
       "      <td>O=C1C[N+](=O)CO1 |$;;;;;;R$|</td>\n",
       "    </tr>\n",
       "    <tr>\n",
       "      <th>1</th>\n",
       "      <td>3362941</td>\n",
       "      <td>1</td>\n",
       "      <td>N#CC1(C#N)CCCO1.CN=N |$;;;;;;;;;;;$,m:9:2.5.6....</td>\n",
       "    </tr>\n",
       "    <tr>\n",
       "      <th>2</th>\n",
       "      <td>3362942</td>\n",
       "      <td>2</td>\n",
       "      <td>O=C1C=Cc2ccc3occc3c21.CC.CC.CC |$;Ry;;;;;Rk;Rx...</td>\n",
       "    </tr>\n",
       "    <tr>\n",
       "      <th>3</th>\n",
       "      <td>3362943</td>\n",
       "      <td>3</td>\n",
       "      <td>CC(C)C1(C(C)C)C=CCCO1 |$;;Y';;M4;;;;;;;$,Sg:n:...</td>\n",
       "    </tr>\n",
       "    <tr>\n",
       "      <th>4</th>\n",
       "      <td>3362944</td>\n",
       "      <td>4</td>\n",
       "      <td>CC1CC(O)C(O)C2(CCCCO2)O1 |$R7;;;L5;;;;;;;;;;$|</td>\n",
       "    </tr>\n",
       "    <tr>\n",
       "      <th>...</th>\n",
       "      <td>...</td>\n",
       "      <td>...</td>\n",
       "      <td>...</td>\n",
       "    </tr>\n",
       "    <tr>\n",
       "      <th>3261456</th>\n",
       "      <td>6624396</td>\n",
       "      <td>3261456</td>\n",
       "      <td>N#CCCc1ccc2sc(SN)nc2c1Cc1ccccc1 |$;Rm;;X1;;;;;...</td>\n",
       "    </tr>\n",
       "    <tr>\n",
       "      <th>3261457</th>\n",
       "      <td>6624397</td>\n",
       "      <td>3261457</td>\n",
       "      <td>NSc1nc2c(Cc3cccc(Cc4cccc5sc(SN)nc45)c3)cccc2s1...</td>\n",
       "    </tr>\n",
       "    <tr>\n",
       "      <th>3261458</th>\n",
       "      <td>6624398</td>\n",
       "      <td>3261458</td>\n",
       "      <td>CCCCCCCCc1cccc2sc(SN)nc12 |$;;;;;;;;;;;;;;;;;;...</td>\n",
       "    </tr>\n",
       "    <tr>\n",
       "      <th>3261459</th>\n",
       "      <td>6624399</td>\n",
       "      <td>3261459</td>\n",
       "      <td>CC(C)(c1cccc(C(C)(C)c2cccc3sc(SN)nc23)c1)c1ccc...</td>\n",
       "    </tr>\n",
       "    <tr>\n",
       "      <th>3261460</th>\n",
       "      <td>6624400</td>\n",
       "      <td>3261460</td>\n",
       "      <td>COCCCc1cccc2sc(SN)nc12.CSP(C)(C)=O |$;;;Q;;;;;...</td>\n",
       "    </tr>\n",
       "  </tbody>\n",
       "</table>\n",
       "<p>3261461 rows × 3 columns</p>\n",
       "</div>"
      ],
      "text/plain": [
       "         Unnamed: 0       id  \\\n",
       "0           3362940        0   \n",
       "1           3362941        1   \n",
       "2           3362942        2   \n",
       "3           3362943        3   \n",
       "4           3362944        4   \n",
       "...             ...      ...   \n",
       "3261456     6624396  3261456   \n",
       "3261457     6624397  3261457   \n",
       "3261458     6624398  3261458   \n",
       "3261459     6624399  3261459   \n",
       "3261460     6624400  3261460   \n",
       "\n",
       "                                                  cxsmiles  \n",
       "0                             O=C1C[N+](=O)CO1 |$;;;;;;R$|  \n",
       "1        N#CC1(C#N)CCCO1.CN=N |$;;;;;;;;;;;$,m:9:2.5.6....  \n",
       "2        O=C1C=Cc2ccc3occc3c21.CC.CC.CC |$;Ry;;;;;Rk;Rx...  \n",
       "3        CC(C)C1(C(C)C)C=CCCO1 |$;;Y';;M4;;;;;;;$,Sg:n:...  \n",
       "4           CC1CC(O)C(O)C2(CCCCO2)O1 |$R7;;;L5;;;;;;;;;;$|  \n",
       "...                                                    ...  \n",
       "3261456  N#CCCc1ccc2sc(SN)nc2c1Cc1ccccc1 |$;Rm;;X1;;;;;...  \n",
       "3261457  NSc1nc2c(Cc3cccc(Cc4cccc5sc(SN)nc45)c3)cccc2s1...  \n",
       "3261458  CCCCCCCCc1cccc2sc(SN)nc12 |$;;;;;;;;;;;;;;;;;;...  \n",
       "3261459  CC(C)(c1cccc(C(C)(C)c2cccc3sc(SN)nc23)c1)c1ccc...  \n",
       "3261460  COCCCc1cccc2sc(SN)nc12.CSP(C)(C)=O |$;;;Q;;;;;...  \n",
       "\n",
       "[3261461 rows x 3 columns]"
      ]
     },
     "execution_count": 7,
     "metadata": {},
     "output_type": "execute_result"
    }
   ],
   "source": [
    "dataset = pd.read_csv(os.getcwd() + f\"/../../data/smiles/{dataset_name}.csv\")\n",
    "dataset"
   ]
  },
  {
   "cell_type": "markdown",
   "metadata": {},
   "source": [
    "### Replace ' with ''"
   ]
  },
  {
   "cell_type": "code",
   "execution_count": 12,
   "metadata": {},
   "outputs": [
    {
     "name": "stderr",
     "output_type": "stream",
     "text": [
      "100%|██████████| 3261461/3261461 [03:11<00:00, 17024.01it/s]\n"
     ]
    }
   ],
   "source": [
    "quotes_to_double_quotes_replacement_proportion = 0.4\n",
    "new_cxsmiles_list = []\n",
    "for i, row in tqdm(dataset.iterrows(), total=len(dataset)):\n",
    "    if \"'\" in row[\"cxsmiles\"]:\n",
    "        if random.random() < quotes_to_double_quotes_replacement_proportion:\n",
    "            cxsmiles = row[\"cxsmiles\"].replace(\"'\", \"''\")\n",
    "            #print(row[\"cxsmiles\"], cxsmiles)\n",
    "            new_cxsmiles_list.append(cxsmiles)\n",
    "            continue\n",
    "    new_cxsmiles_list.append(row[\"cxsmiles\"])"
   ]
  },
  {
   "cell_type": "code",
   "execution_count": null,
   "metadata": {},
   "outputs": [],
   "source": [
    "dataset[\"cxsmiles\"] = new_cxsmiles\n",
    "dataset.to_csv(os.getcwd() + f\"/../../data/smiles/{edited_dataset_name}.csv\")"
   ]
  }
 ],
 "metadata": {
  "kernelspec": {
   "display_name": "cdk",
   "language": "python",
   "name": "cdk"
  },
  "language_info": {
   "codemirror_mode": {
    "name": "ipython",
    "version": 3
   },
   "file_extension": ".py",
   "mimetype": "text/x-python",
   "name": "python",
   "nbconvert_exporter": "python",
   "pygments_lexer": "ipython3",
   "version": "3.10.9"
  }
 },
 "nbformat": 4,
 "nbformat_minor": 2
}
