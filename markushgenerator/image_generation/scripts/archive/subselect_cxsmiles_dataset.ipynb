{
 "cells": [
  {
   "cell_type": "code",
   "execution_count": 1,
   "metadata": {},
   "outputs": [],
   "source": [
    "%load_ext autoreload\n",
    "%autoreload 2"
   ]
  },
  {
   "cell_type": "code",
   "execution_count": 2,
   "metadata": {},
   "outputs": [],
   "source": [
    "# Runs on cdk\n",
    "\n",
    "import os \n",
    "import pandas as pd "
   ]
  },
  {
   "cell_type": "code",
   "execution_count": 3,
   "metadata": {},
   "outputs": [],
   "source": [
    "dataset_name = \"experiment-cx1000\"\n",
    "clean_dataset_name = \"experiment-cx1000_cxsmiles\""
   ]
  },
  {
   "cell_type": "code",
   "execution_count": 4,
   "metadata": {},
   "outputs": [
    {
     "data": {
      "text/plain": [
       "3362940                       O=C1C[N+](=O)CO1 |$;;W';;J;;$|\n",
       "3362941        CCC1CC(CC)C(C#N)(C#N)O1 |$;Rq;;;;;;;;;M;;R7$|\n",
       "3362942             O=C1C=Cc2ccc3occc3c21 |$;;;;;;;R2;;;;;$|\n",
       "3362943    CC(C)C1(C(C)C)C=CCCO1.CC |$;;;;G₉;;;;;;;;;Ro$,...\n",
       "3362944    CCC1C(C)OC2(OCCCC2CC)C(O)C1O |$;;;;;;;;;G;;;;;...\n",
       "                                 ...                        \n",
       "6624382    N#CCCc1ccc2sc(SN)nc2c1Cc1ccccc1.CC.CC |$;;;;;;...\n",
       "6624383    NSc1nc2c(Cc3cccc(Cc4cccc5sc(SN)nc45)c3)cccc2s1...\n",
       "6624384    CCCCCCCCc1cccc2sc(SN)nc12 |$Rl;R';;M03;;;;;L;E...\n",
       "6624385    CC(C)(c1cccc(C(C)(C)c2cccc3sc(SN)nc23)c1)c1ccc...\n",
       "6624386    COCCCc1cccc2sc(SN)nc12 |$;;;;;;;;;;;;;;;$,Sg:n...\n",
       "Name: isosmiles, Length: 3261447, dtype: object"
      ]
     },
     "execution_count": 4,
     "metadata": {},
     "output_type": "execute_result"
    }
   ],
   "source": [
    "# Select rows flagged as CXSMILES (which can potentially be SMILES)\n",
    "\n",
    "dataset = pd.read_csv(os.getcwd() + f\"/../../data/smiles/{dataset_name}.csv\")\n",
    "dataset = dataset[dataset[\"cxsmiles\"] == True]\n",
    "cxsmiles_list = dataset[\"isosmiles\"]\n",
    "cxsmiles_list_clean = cxsmiles_list\n",
    "cxsmiles_list_clean"
   ]
  },
  {
   "cell_type": "code",
   "execution_count": null,
   "metadata": {},
   "outputs": [],
   "source": [
    "# Visualize \n",
    "\n",
    "max_i = 1000\n",
    "for i, row in enumerate(cxsmiles_list):\n",
    "    if i > max_i:\n",
    "        break\n",
    "    if \"Sg\" in row:\n",
    "        print(row)"
   ]
  },
  {
   "cell_type": "code",
   "execution_count": 18,
   "metadata": {},
   "outputs": [
    {
     "name": "stdout",
     "output_type": "stream",
     "text": [
      "1125673\n"
     ]
    }
   ],
   "source": [
    "# (Optional) Remove standard-like Markush structure\n",
    "cxsmiles_list_clean = []\n",
    "for cxsmiles in cxsmiles_list:\n",
    "    rtable = cxsmiles.split(\" \")[1]\n",
    "    if all([c in [\";\", \"$\", \"|\"] for c in rtable]):\n",
    "        continue\n",
    "    cxsmiles_list_clean.append(cxsmiles)\n",
    "\n",
    "print(len(cxsmiles_list_clean))"
   ]
  },
  {
   "cell_type": "code",
   "execution_count": 5,
   "metadata": {},
   "outputs": [],
   "source": [
    "# Save \n",
    "\n",
    "pd.DataFrame({\n",
    "    \"id\": range(len(cxsmiles_list_clean)),\n",
    "    \"cxsmiles\": cxsmiles_list_clean,\n",
    "}).to_csv(os.getcwd() + f\"/../../data/smiles/{clean_dataset_name}.csv\")"
   ]
  }
 ],
 "metadata": {
  "kernelspec": {
   "display_name": "cdk",
   "language": "python",
   "name": "cdk"
  },
  "language_info": {
   "codemirror_mode": {
    "name": "ipython",
    "version": 3
   },
   "file_extension": ".py",
   "mimetype": "text/x-python",
   "name": "python",
   "nbconvert_exporter": "python",
   "pygments_lexer": "ipython3",
   "version": "3.10.9"
  }
 },
 "nbformat": 4,
 "nbformat_minor": 2
}
