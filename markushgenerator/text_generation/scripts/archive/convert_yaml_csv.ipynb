{
 "cells": [
  {
   "cell_type": "code",
   "execution_count": null,
   "metadata": {},
   "outputs": [],
   "source": [
    "%load_ext autoreload\n",
    "%autoreload 2"
   ]
  },
  {
   "cell_type": "code",
   "execution_count": 6,
   "metadata": {},
   "outputs": [],
   "source": [
    "import yaml\n",
    "import os\n",
    "import pandas as pd"
   ]
  },
  {
   "cell_type": "code",
   "execution_count": 12,
   "metadata": {},
   "outputs": [
    {
     "name": "stdout",
     "output_type": "stream",
     "text": [
      "  separator\n",
      "0         ,\n"
     ]
    }
   ],
   "source": [
    "d = yaml.safe_load(open(os.getcwd() + \"/../../data/text_mappings/component_list_separator.yaml\"))\n",
    "d = pd.DataFrame({\n",
    "    \"value\": d.keys()\n",
    "})\n",
    "print(d)\n",
    "d.to_csv(os.getcwd() + \"/../../data/text_mappings/component_list_separator.csv\", index=False)"
   ]
  },
  {
   "cell_type": "code",
   "execution_count": 16,
   "metadata": {},
   "outputs": [
    {
     "name": "stdout",
     "output_type": "stream",
     "text": [
      "  separator\n",
      "0       \\, \n",
      "1        ; \n",
      "2       ;\\n\n",
      "3      \\,\\n\n"
     ]
    }
   ],
   "source": [
    "d = yaml.safe_load(open(os.getcwd() + \"/../../data/text_mappings/item_separator.yaml\"))\n",
    "d = pd.DataFrame({\n",
    "    \"value\": [s.replace('\\n', '\\\\n') for s in d.keys()]\n",
    "})\n",
    "print(d)\n",
    "d.to_csv(os.getcwd() + \"/../../data/text_mappings/item_separator.csv\", index=False)"
   ]
  },
  {
   "cell_type": "code",
   "execution_count": null,
   "metadata": {},
   "outputs": [],
   "source": [
    "d = yaml.safe_load(open(os.getcwd() + \"/../../data/text_mappings/component_list_separator.yaml\"))\n",
    "d = pd.DataFrame({\n",
    "    \"value\": [s.replace('\\n', '\\\\n') for s in d.keys()]\n",
    "})\n",
    "print(d)\n",
    "d.to_csv(os.getcwd() + \"/../../data/text_mappings/component_list_separator_separator.csv\", index=False)"
   ]
  },
  {
   "cell_type": "code",
   "execution_count": null,
   "metadata": {},
   "outputs": [],
   "source": [
    "d = yaml.safe_load(open(os.getcwd() + \"/../../data/text_mappings/int.yaml\"))\n",
    "d = pd.DataFrame({\n",
    "    \"value\": [s.replace('\\n', '\\\\n') for s in d.keys()]\n",
    "})\n",
    "print(d)\n",
    "d.to_csv(os.getcwd() + \"/../../data/text_mappings/int.csv\", index=False)"
   ]
  }
 ],
 "metadata": {
  "kernelspec": {
   "display_name": "mdu",
   "language": "python",
   "name": "python3"
  },
  "language_info": {
   "codemirror_mode": {
    "name": "ipython",
    "version": 3
   },
   "file_extension": ".py",
   "mimetype": "text/x-python",
   "name": "python",
   "nbconvert_exporter": "python",
   "pygments_lexer": "ipython3",
   "version": "3.10.9"
  }
 },
 "nbformat": 4,
 "nbformat_minor": 2
}
