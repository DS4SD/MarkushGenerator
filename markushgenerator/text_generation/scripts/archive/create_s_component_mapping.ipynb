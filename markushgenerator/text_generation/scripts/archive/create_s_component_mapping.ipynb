{
 "cells": [
  {
   "cell_type": "code",
   "execution_count": 2,
   "metadata": {},
   "outputs": [],
   "source": [
    "%load_ext autoreload\n",
    "%autoreload 2"
   ]
  },
  {
   "cell_type": "code",
   "execution_count": 3,
   "metadata": {},
   "outputs": [
    {
     "name": "stderr",
     "output_type": "stream",
     "text": [
      "/mnt/volume/lum/multimodal-chemical-understanding/mdu/lib/python3.10/site-packages/tqdm/auto.py:21: TqdmWarning: IProgress not found. Please update jupyter and ipywidgets. See https://ipywidgets.readthedocs.io/en/stable/user_install.html\n",
      "  from .autonotebook import tqdm as notebook_tqdm\n"
     ]
    }
   ],
   "source": [
    "# Runs on mdu kernel \n",
    "\n",
    "import datasets\n",
    "import os\n",
    "import yaml\n",
    "import pandas as pd\n",
    "from tqdm import tqdm\n",
    "from datasets import concatenate_datasets\n",
    "from PIL import Image, ImageDraw, ImageOps\n",
    "from rdkit import Chem \n",
    "\n",
    "from docmarker.text_generation import DescriptionGenerator\n",
    "from docmarker.image_text_merging import ImageTextMerger\n",
    "from mol_depict_cdk.cxsmiles_tokenizer import CXSMILESTokenizer"
   ]
  },
  {
   "cell_type": "markdown",
   "metadata": {},
   "source": [
    "### Convert abbreviation list"
   ]
  },
  {
   "cell_type": "code",
   "execution_count": 27,
   "metadata": {},
   "outputs": [],
   "source": [
    "abbreviations = pd.read_csv(os.getcwd() + \"/../../data/abbreviations_2.csv\")\n",
    "max_abbreviation_index = 150\n",
    "\n",
    "valences = []\n",
    "smiles_list = []\n",
    "abbreviations_list = []\n",
    "for i, row in abbreviations.iterrows():\n",
    "    if i > max_abbreviation_index:\n",
    "        continue \n",
    "    valence = row[\"smiles\"].count(\"*\")\n",
    "    if (valence == 0):\n",
    "        continue\n",
    "    valences.append(valence)\n",
    "    smiles_list.append(row[\"smiles\"])\n",
    "    abbreviations_list.append(row[\"abbreviation\"])"
   ]
  },
  {
   "cell_type": "markdown",
   "metadata": {},
   "source": [
    "#### SMILES"
   ]
  },
  {
   "cell_type": "code",
   "execution_count": 28,
   "metadata": {},
   "outputs": [],
   "source": [
    "d = pd.DataFrame({\n",
    "    \"value\": smiles_list,\n",
    "    \"valence\": valences \n",
    "})\n",
    "d.to_csv(os.getcwd() + \"/../../data/text_mappings/s_component_abbreviation_smiles.csv\", index=False)"
   ]
  },
  {
   "cell_type": "markdown",
   "metadata": {},
   "source": [
    "#### Names"
   ]
  },
  {
   "cell_type": "code",
   "execution_count": 29,
   "metadata": {},
   "outputs": [],
   "source": [
    "d = pd.DataFrame({\n",
    "    \"value\": abbreviations_list,\n",
    "    \"valence\": valences \n",
    "})\n",
    "d.to_csv(os.getcwd() + \"/../../data/text_mappings/s_component_abbreviation_name.csv\", index=False)"
   ]
  },
  {
   "cell_type": "code",
   "execution_count": 38,
   "metadata": {},
   "outputs": [
    {
     "name": "stdout",
     "output_type": "stream",
     "text": [
      "1680 COO-t-Bu C(=O)OC(C)(C)C\n",
      "1943 CO2-t-Bu C(=O)OC(C)(C)C\n",
      "2032 (CH2)4COOH CCCCC(=O)O\n",
      "2162 NHCO2Bn NC(=O)OCC1=CC=CC=C1\n",
      "2207 COOC4H9(n) C(=O)OCCCC\n",
      "2366 CH2CCl3 CC(Cl)(Cl)Cl\n"
     ]
    }
   ],
   "source": [
    "# Note for ingmar (now fixed)\n",
    "for i, (abb, smi, v) in enumerate(zip(abbreviations[\"abbreviation\"], abbreviations[\"smiles\"], valences)):\n",
    "    if (v != 1) and (v != 2):\n",
    "        print(i, abb, smi)"
   ]
  },
  {
   "cell_type": "markdown",
   "metadata": {},
   "source": [
    "### Convert functional group list"
   ]
  },
  {
   "cell_type": "code",
   "execution_count": 23,
   "metadata": {},
   "outputs": [],
   "source": [
    "def count_terminal_carbons(molecule):\n",
    "    nb_terminal_carbons = 0\n",
    "    for atom in molecule.GetAtoms():\n",
    "        if atom.GetAtomicNum() == 6 and len(atom.GetNeighbors()) == 1:\n",
    "            nb_terminal_carbons += 1\n",
    "    return nb_terminal_carbons "
   ]
  },
  {
   "cell_type": "code",
   "execution_count": 30,
   "metadata": {},
   "outputs": [],
   "source": [
    "functional_groups = pd.read_csv(os.getcwd() + \"/../../data/functional_groups.csv\")\n",
    "max_functional_group_index = 250\n",
    "\n",
    "valences = []\n",
    "substructures = []\n",
    "smiles_list = []\n",
    "for i, row in functional_groups.iterrows():\n",
    "    if i > max_functional_group_index:\n",
    "        continue\n",
    "    molecule = Chem.MolFromSmiles(row[\"SMILES\"])\n",
    "    valence = count_terminal_carbons(molecule)\n",
    "    valences.append(valence)\n",
    "    \n",
    "    substructure = row[\"Substructure\"]\n",
    "    substructure = substructure.replace(\"_\", \" \")\n",
    "    substructures.append(substructure)\n",
    "    smiles_list.append(row[\"SMILES\"])"
   ]
  },
  {
   "cell_type": "markdown",
   "metadata": {},
   "source": [
    "#### SMILES"
   ]
  },
  {
   "cell_type": "code",
   "execution_count": 31,
   "metadata": {},
   "outputs": [],
   "source": [
    "d = pd.DataFrame({\n",
    "    \"value\": smiles_list,\n",
    "    \"valence\": valences \n",
    "})\n",
    "d.to_csv(os.getcwd() + \"/../../data/text_mappings/s_component_functional_group_smiles.csv\", index=False)"
   ]
  },
  {
   "cell_type": "markdown",
   "metadata": {},
   "source": [
    "#### Names"
   ]
  },
  {
   "cell_type": "code",
   "execution_count": 32,
   "metadata": {},
   "outputs": [],
   "source": [
    "d = pd.DataFrame({\n",
    "    \"value\": substructures,\n",
    "    \"valence\": valences \n",
    "})\n",
    "d.to_csv(os.getcwd() + \"/../../data/text_mappings/s_component_functional_group_name.csv\", index=False)"
   ]
  },
  {
   "cell_type": "markdown",
   "metadata": {},
   "source": [
    "### Create atom list"
   ]
  },
  {
   "cell_type": "code",
   "execution_count": 5,
   "metadata": {},
   "outputs": [],
   "source": [
    "def get_hydrogen_variants(atom_symbol, max_valence):\n",
    "    variants = []\n",
    "    valences = []\n",
    "    for h_count in range(max_valence):\n",
    "        if h_count == 0:\n",
    "            variants.append(atom_symbol)\n",
    "            valences.append(max_valence - h_count)\n",
    "        elif h_count == 1:\n",
    "            variants.append(f\"H{atom_symbol}\")\n",
    "            valences.append(max_valence - h_count)\n",
    "            variants.append(f\"{atom_symbol}H\")\n",
    "            valences.append(max_valence - h_count)\n",
    "        else:\n",
    "            variants.append(f\"H{h_count}{atom_symbol}\")\n",
    "            valences.append(max_valence - h_count)\n",
    "            variants.append(f\"{atom_symbol}H{h_count}\")\n",
    "            valences.append(max_valence - h_count)\n",
    "    return variants, valences"
   ]
  },
  {
   "cell_type": "markdown",
   "metadata": {},
   "source": [
    "#### SMILES"
   ]
  },
  {
   "cell_type": "code",
   "execution_count": 6,
   "metadata": {},
   "outputs": [],
   "source": [
    "periodic_table = Chem.GetPeriodicTable()\n",
    "max_atomic_number = 50\n",
    "\n",
    "atoms = []\n",
    "valences = []\n",
    "for atomic_number in range(1, max_atomic_number + 1):\n",
    "    #max_valence =  max(periodic_table.GetValenceList(atomic_number))\n",
    "    max_valence = periodic_table.GetDefaultValence(atomic_number)\n",
    "    if max_valence < 1:\n",
    "        continue \n",
    "    \n",
    "    # Atom atom symbol and hydrogen variants\n",
    "    atom_symbol = periodic_table.GetElementSymbol(atomic_number)\n",
    "    #max_valence =  max(periodic_table.GetValenceList(atomic_number))\n",
    "    max_valence = periodic_table.GetDefaultValence(atomic_number)\n",
    "    atom_variants, atom_variants_valences = get_hydrogen_variants(atom_symbol, max_valence)\n",
    "    atoms.extend(atom_variants)\n",
    "    valences.extend(atom_variants_valences)\n",
    "    \n",
    "d = pd.DataFrame({\n",
    "    \"value\": atoms,\n",
    "    \"valence\": valences\n",
    "})\n",
    "d.to_csv(os.getcwd() + \"/../../data/text_mappings/s_component_atom_smiles.csv\", index=False)"
   ]
  },
  {
   "cell_type": "markdown",
   "metadata": {},
   "source": [
    "#### Names"
   ]
  },
  {
   "cell_type": "code",
   "execution_count": 37,
   "metadata": {},
   "outputs": [],
   "source": [
    "periodic_table = Chem.GetPeriodicTable()\n",
    "max_atomic_number = 50\n",
    "\n",
    "atoms = []\n",
    "valences = []\n",
    "for atomic_number in range(1, max_atomic_number + 1):\n",
    "    max_valence =  max(periodic_table.GetValenceList(atomic_number))\n",
    "    if max_valence < 1:\n",
    "        continue \n",
    "    \n",
    "    # Add atom name\n",
    "    atoms.append(periodic_table.GetElementName(atomic_number))\n",
    "    valences.append(max_valence)\n",
    "    \n",
    "d = pd.DataFrame({\n",
    "    \"value\": atoms,\n",
    "    \"valence\": valences\n",
    "})\n",
    "d.to_csv(os.getcwd() + \"/../../data/text_mappings/s_component_atom_name.csv\", index=False)"
   ]
  }
 ],
 "metadata": {
  "kernelspec": {
   "display_name": "mdu",
   "language": "python",
   "name": "python3"
  },
  "language_info": {
   "codemirror_mode": {
    "name": "ipython",
    "version": 3
   },
   "file_extension": ".py",
   "mimetype": "text/x-python",
   "name": "python",
   "nbconvert_exporter": "python",
   "pygments_lexer": "ipython3",
   "version": "3.10.9"
  }
 },
 "nbformat": 4,
 "nbformat_minor": 2
}
